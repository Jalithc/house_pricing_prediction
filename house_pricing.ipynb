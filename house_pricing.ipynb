{
 "cells": [
  {
   "cell_type": "code",
   "execution_count": 24,
   "metadata": {},
   "outputs": [
    {
     "name": "stderr",
     "output_type": "stream",
     "text": [
      "c:\\Users\\user\\AppData\\Local\\Programs\\Python\\Python312\\Lib\\site-packages\\keras\\src\\layers\\core\\dense.py:85: UserWarning: Do not pass an `input_shape`/`input_dim` argument to a layer. When using Sequential models, prefer using an `Input(shape)` object as the first layer in the model instead.\n",
      "  super().__init__(activity_regularizer=activity_regularizer, **kwargs)\n"
     ]
    },
    {
     "name": "stdout",
     "output_type": "stream",
     "text": [
      "\u001b[1m1/1\u001b[0m \u001b[32m━━━━━━━━━━━━━━━━━━━━\u001b[0m\u001b[37m\u001b[0m \u001b[1m0s\u001b[0m 43ms/step\n",
      "[[4.563904]]\n"
     ]
    }
   ],
   "source": [
    "import tensorflow as tf\n",
    "import numpy as np\n",
    "from tensorflow import keras\n",
    "\n",
    "# GRADED FUNCTION: house_model\n",
    "def house_model():\n",
    "    ### START CODE HERE\n",
    "    \n",
    "    # Define input and output tensors with the values for houses with 1 up to 6 bedrooms\n",
    "    # Hint: Remember to explictly set the dtype as float\n",
    "    xs = np.array([0.0, 1.0, 2.0, 3.0, 4.0], dtype=float)\n",
    "    ys = np.array([1.0, 1.5, 2.0, 2.5, 3.0], dtype=float)\n",
    "    \n",
    "    # Define your model (should be a model with 1 dense layer and 1 unit)\n",
    "    model = tf.keras.Sequential([keras.layers.Dense(units=1, input_shape=[1])])\n",
    "    \n",
    "    # Compile your model\n",
    "    # Set the optimizer to Stochastic Gradient Descent\n",
    "    # and use Mean Squared Error as the loss function\n",
    "    model.compile(optimizer='sgd', loss='mean_squared_error')\n",
    "    \n",
    "    # Train your model for 1000 epochs by feeding the i/o tensors\n",
    "    model.fit(xs, ys, epochs=500, verbose=0)\n",
    "    \n",
    "    ### END CODE HERE\n",
    "    return model\n",
    "\n",
    "model = house_model()\n",
    "prediction = model.predict(np.array([7.0]))\n",
    "print(prediction)"
   ]
  }
 ],
 "metadata": {
  "kernelspec": {
   "display_name": "Python 3",
   "language": "python",
   "name": "python3"
  },
  "language_info": {
   "codemirror_mode": {
    "name": "ipython",
    "version": 3
   },
   "file_extension": ".py",
   "mimetype": "text/x-python",
   "name": "python",
   "nbconvert_exporter": "python",
   "pygments_lexer": "ipython3",
   "version": "3.12.0"
  }
 },
 "nbformat": 4,
 "nbformat_minor": 2
}
